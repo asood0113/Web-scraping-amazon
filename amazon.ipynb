{
 "metadata": {
  "language_info": {
   "codemirror_mode": {
    "name": "ipython",
    "version": 3
   },
   "file_extension": ".py",
   "mimetype": "text/x-python",
   "name": "python",
   "nbconvert_exporter": "python",
   "pygments_lexer": "ipython3",
   "version": "3.9.0"
  },
  "orig_nbformat": 4,
  "kernelspec": {
   "name": "python3",
   "display_name": "Python 3.9.0 64-bit"
  },
  "interpreter": {
   "hash": "322e5b4af970d614be014a88b1853ca1fd99b2f4bc97f4da6e5824f5dbf2a6b7"
  }
 },
 "nbformat": 4,
 "nbformat_minor": 2,
 "cells": [
  {
   "cell_type": "code",
   "execution_count": 1,
   "metadata": {},
   "outputs": [],
   "source": [
    "import time\n",
    "from selenium import webdriver as wd\n",
    "import pandas as pd"
   ]
  },
  {
   "source": [
    "<h1> To print price detials of the product <h3>Infinity (JBL) Glide 120, in Ear Wireless Earphones with Mic, Deep Bass, Dual Equalizer, 12mm Drivers, Premium Metal Earbuds, Comfortable Flex Neckband, Bluetooth 5.0, IPX5 Sweatproof (Black&Yellow)"
   ],
   "cell_type": "markdown",
   "metadata": {}
  },
  {
   "cell_type": "code",
   "execution_count": 37,
   "metadata": {},
   "outputs": [
    {
     "output_type": "stream",
     "name": "stdout",
     "text": [
      "M.R.P.: ₹ 2,999.00\nDeal Price: ₹ 1,099.00\nYou Save: ₹ 1,900.00 (63%)\nInclusive of all taxes\n"
     ]
    }
   ],
   "source": [
    "# the instance of Chrome WebDriver is created\n",
    "\n",
    "driver = wd.Chrome(executable_path='C:/Users/anany/.wdm/drivers/chromedriver/win32/91.0.4472.101/chromedriver.exe')\n",
    "\n",
    "# driver.get method will navigate to the page given by the url\n",
    "\n",
    "driver.get('https://www.amazon.in/dp/B082MDMW3X/ref=s9_acsd_al_bw_c2_x_0_i?pf_rd_m=A1K21FY43GMZF8&pf_rd_s=merchandised-search-5&pf_rd')\n",
    "\n",
    "\n",
    "for i in driver.find_elements_by_css_selector('#price > table > tbody'):\n",
    "    print(i.text)\n"
   ]
  },
  {
   "source": [
    "<h1>To print just the deal price"
   ],
   "cell_type": "markdown",
   "metadata": {}
  },
  {
   "cell_type": "code",
   "execution_count": 28,
   "metadata": {},
   "outputs": [
    {
     "output_type": "stream",
     "name": "stdout",
     "text": [
      "Deal Price: ₹ 1,099.00\n"
     ]
    }
   ],
   "source": [
    "# to print just the deal price\n",
    "\n",
    "driver = wd.Chrome(executable_path='C:/Users/anany/.wdm/drivers/chromedriver/win32/91.0.4472.101/chromedriver.exe')\n",
    "\n",
    "# driver.get method will navigate to the page given by the url\n",
    "\n",
    "driver.get('https://www.amazon.in/dp/B082MDMW3X/ref=s9_acsd_al_bw_c2_x_0_i?pf_rd_m=A1K21FY43GMZF8&pf_rd_s=merchandised-search-5&pf_rd')\n",
    "\n",
    "\n",
    "for i in driver.find_elements_by_css_selector('#priceblock_dealprice_row'):\n",
    "    print(i.text)"
   ]
  },
  {
   "source": [
    "<h1> To print the price of section \"Customers who viewed this item also viewed\""
   ],
   "cell_type": "markdown",
   "metadata": {}
  },
  {
   "cell_type": "code",
   "execution_count": 29,
   "metadata": {},
   "outputs": [
    {
     "output_type": "stream",
     "name": "stdout",
     "text": [
      "₹999.00\n",
      "₹999.00\n",
      "₹899.00\n",
      "₹1,099.00\n",
      "₹999.00\n",
      "₹1,099.00\n",
      "\n",
      "\n",
      "\n",
      "\n",
      "₹4,699.00\n",
      "₹999.00\n",
      "₹999.00\n",
      "₹999.00\n",
      "₹1,099.00\n",
      "₹15,999.00\n",
      "\n",
      "\n",
      "\n",
      "\n"
     ]
    }
   ],
   "source": [
    "driver = wd.Chrome(executable_path='C:/Users/anany/.wdm/drivers/chromedriver/win32/91.0.4472.101/chromedriver.exe')\n",
    "\n",
    "# driver.get method will navigate to the page given by the url\n",
    "\n",
    "driver.get('https://www.amazon.in/dp/B082MDMW3X/ref=s9_acsd_al_bw_c2_x_0_i?pf_rd_m=A1K21FY43GMZF8&pf_rd_s=merchandised-search-5&pf_rd')\n",
    "\n",
    "\n",
    "for i in driver.find_elements_by_css_selector('div a span[class=\"a-size-medium a-color-price\"]'):\n",
    "    \n",
    "    print(i.text)"
   ]
  },
  {
   "source": [
    "<h1> To print the price of  section \"Compare with similar items\""
   ],
   "cell_type": "markdown",
   "metadata": {}
  },
  {
   "cell_type": "code",
   "execution_count": 30,
   "metadata": {},
   "outputs": [
    {
     "output_type": "stream",
     "name": "stdout",
     "text": [
      "Price ₹ 1,099.00 ₹ 999.00 ₹ 999.00 ₹ 1,999.00\n"
     ]
    }
   ],
   "source": [
    "# to print just the deal price\n",
    "\n",
    "driver = wd.Chrome(executable_path='C:/Users/anany/.wdm/drivers/chromedriver/win32/91.0.4472.101/chromedriver.exe')\n",
    "\n",
    "# driver.get method will navigate to the page given by the url\n",
    "\n",
    "driver.get('https://www.amazon.in/dp/B082MDMW3X/ref=s9_acsd_al_bw_c2_x_0_i?pf_rd_m=A1K21FY43GMZF8&pf_rd_s=merchandised-search-5&pf_rd')\n",
    "\n",
    "\n",
    "for i in driver.find_elements_by_css_selector('#comparison_price_row'):\n",
    "    \n",
    "    print(i.text)\n",
    "    \n",
    "        "
   ]
  },
  {
   "source": [
    "<h1> To print price detials of the product <h3> HP Pavilion Gaming 10th Gen Intel Core i5 Processor 16.1\" (40.9 cms) FHD Gaming Laptop (8GB/1TB HDD + 256GB SSD/Windows 10/MS Office/NVIDIA GTX 1650 4GB/Shadow Black), 16-a0022TX"
   ],
   "cell_type": "markdown",
   "metadata": {}
  },
  {
   "cell_type": "code",
   "execution_count": 38,
   "metadata": {},
   "outputs": [
    {
     "output_type": "stream",
     "name": "stdout",
     "text": [
      "Price: ₹ 91,713.00\n"
     ]
    }
   ],
   "source": [
    "driver = wd.Chrome(executable_path='C:/Users/anany/.wdm/drivers/chromedriver/win32/91.0.4472.101/chromedriver.exe')\n",
    "\n",
    "# driver.get method will navigate to the page given by the url\n",
    "\n",
    "driver.get('https://www.amazon.in/gp/product/B08CGJ5K3V/ref=s9_acss_bw_cg_NavnOP_2d1_w?pf_rd_m=A1K21FY43GMZF8&pf_rd_s=merchandised-search-4&pf_rd_r=CFPEPXXHM4KY3713FGA5&pf_rd_t=101&pf_rd_p=382f2f5b-6a88-4d15-b917-43c1b1ed7ce5&pf_rd_i=26297682031')\n",
    "\n",
    "\n",
    "for i in driver.find_elements_by_css_selector('#priceblock_ourprice_row'):\n",
    "    \n",
    "    print(i.text)"
   ]
  },
  {
   "source": [
    "<h1><h1> To print the price of  section \"Products related to this item\""
   ],
   "cell_type": "markdown",
   "metadata": {}
  },
  {
   "cell_type": "code",
   "execution_count": 40,
   "metadata": {},
   "outputs": [
    {
     "output_type": "stream",
     "name": "stdout",
     "text": [
      "₹59,999.00\n",
      "₹28,990.00\n",
      "₹2,55,990.00\n",
      "₹63,237.00\n",
      "₹49,590.00\n",
      "₹1,09,990.00\n",
      "\n",
      "₹250.00\n",
      "₹59,999.00\n",
      "₹5,200.00\n",
      "₹15,099.00\n",
      "₹2,750.00\n",
      "₹5,200.00\n",
      "\n"
     ]
    }
   ],
   "source": [
    "driver = wd.Chrome(executable_path='C:/Users/anany/.wdm/drivers/chromedriver/win32/91.0.4472.101/chromedriver.exe')\n",
    "\n",
    "# driver.get method will navigate to the page given by the url\n",
    "\n",
    "driver.get('https://www.amazon.in/gp/product/B08CGJ5K3V/ref=s9_acss_bw_cg_NavnOP_2d1_w?pf_rd_m=A1K21FY43GMZF8&pf_rd_s=merchandised-search-4&pf_rd_r=CFPEPXXHM4KY3713FGA5&pf_rd_t=101&pf_rd_p=382f2f5b-6a88-4d15-b917-43c1b1ed7ce5&pf_rd_i=26297682031')\n",
    "\n",
    "\n",
    "for i in driver.find_elements_by_css_selector('[class=\"a-size-medium a-color-price\"]'):\n",
    "    \n",
    "    print(i.text)"
   ]
  },
  {
   "source": [
    "<h1> To print the price of  section \"Compare with similar items\""
   ],
   "cell_type": "markdown",
   "metadata": {}
  },
  {
   "cell_type": "code",
   "execution_count": 43,
   "metadata": {},
   "outputs": [
    {
     "output_type": "stream",
     "name": "stdout",
     "text": [
      "₹ 91,713.00\n₹ 66,990.00\n₹ 41,990.00\n₹ 84,990.00\n\n\n"
     ]
    }
   ],
   "source": [
    "driver = wd.Chrome(executable_path='C:/Users/anany/.wdm/drivers/chromedriver/win32/91.0.4472.101/chromedriver.exe')\n",
    "\n",
    "# driver.get method will navigate to the page given by the url\n",
    "\n",
    "driver.get('https://www.amazon.in/gp/product/B08CGJ5K3V/ref=s9_acss_bw_cg_NavnOP_2d1_w?pf_rd_m=A1K21FY43GMZF8&pf_rd_s=merchandised-search-4&pf_rd_r=CFPEPXXHM4KY3713FGA5&pf_rd_t=101&pf_rd_p=382f2f5b-6a88-4d15-b917-43c1b1ed7ce5&pf_rd_i=26297682031')\n",
    "\n",
    "\n",
    "for i in driver.find_elements_by_css_selector('[class=\"a-size-large a-color-price a-text-bold\"]'):\n",
    "    \n",
    "    print(i.text)"
   ]
  },
  {
   "source": [
    "<h1> To print the price of  section "Customers who bought this item also bought"
   ],
   "cell_type": "markdown",
   "metadata": {}
  },
  {
   "cell_type": "code",
   "execution_count": 49,
   "metadata": {},
   "outputs": [
    {
     "output_type": "stream",
     "name": "stdout",
     "text": [
      "100\n3,499\n1,490\n3,599\n1,999\n1,199\n"
     ]
    }
   ],
   "source": [
    "driver = wd.Chrome(executable_path='C:/Users/anany/.wdm/drivers/chromedriver/win32/91.0.4472.101/chromedriver.exe')\n",
    "\n",
    "# driver.get method will navigate to the page given by the url\n",
    "\n",
    "driver.get('https://www.amazon.in/gp/product/B08CGJ5K3V/ref=s9_acss_bw_cg_NavnOP_2d1_w?pf_rd_m=A1K21FY43GMZF8&pf_rd_s=merchandised-search-4&pf_rd_r=CFPEPXXHM4KY3713FGA5&pf_rd_t=101&pf_rd_p=382f2f5b-6a88-4d15-b917-43c1b1ed7ce5&pf_rd_i=26297682031')\n",
    "\n",
    "\n",
    "for i in driver.find_elements_by_css_selector('[class=\"a-price-whole\"]'):\n",
    "    \n",
    "    print(i.text)"
   ]
  },
  {
   "source": [
    "<H1> To print price of the product <h3>Shadow and Bone"
   ],
   "cell_type": "markdown",
   "metadata": {}
  },
  {
   "cell_type": "code",
   "execution_count": 48,
   "metadata": {},
   "outputs": [
    {
     "output_type": "stream",
     "name": "stdout",
     "text": [
      "₹ 482.00\nM.R.P.: ₹ 599.00\nYou Save: ₹ 117.00 (20%)\nInclusive of all taxes\n"
     ]
    }
   ],
   "source": [
    "driver = wd.Chrome(executable_path='C:/Users/anany/.wdm/drivers/chromedriver/win32/91.0.4472.101/chromedriver.exe')\n",
    "\n",
    "# driver.get method will navigate to the page given by the url\n",
    "\n",
    "\n",
    "driver.get('https://www.amazon.in/Shadow-Bone-Original-Leigh-Bardugo/dp/1510109064/ref=sr_1_1?dchild=1&keywords=Shadow+and+Bone&qid=1625723811&sr=8-1')\n",
    "\n",
    "\n",
    "for i in driver.find_elements_by_css_selector(\"#soldByThirdParty > span\"):\n",
    "    print(i.text)\n",
    "\n",
    "for y in driver.find_elements_by_css_selector(\"#buyBoxInner > ul\"):\n",
    "    print(y.text)"
   ]
  },
  {
   "source": [
    "<h1> To print the price of  section "Customers who bought this item also bought"
   ],
   "cell_type": "markdown",
   "metadata": {}
  },
  {
   "cell_type": "code",
   "execution_count": 50,
   "metadata": {},
   "outputs": [
    {
     "output_type": "stream",
     "name": "stdout",
     "text": [
      "420\n374\n375\n341\n369\n728\n"
     ]
    }
   ],
   "source": [
    "driver = wd.Chrome(executable_path='C:/Users/anany/.wdm/drivers/chromedriver/win32/91.0.4472.101/chromedriver.exe')\n",
    "\n",
    "# driver.get method will navigate to the page given by the url\n",
    "\n",
    "driver.get('https://www.amazon.in/Shadow-Bone-Original-Leigh-Bardugo/dp/1510109064/ref=sr_1_1?dchild=1&keywords=Shadow+and+Bone&qid=1625723811&sr=8-1')\n",
    "\n",
    "\n",
    "for i in driver.find_elements_by_css_selector('[class=\"a-price-whole\"]'):\n",
    "    \n",
    "    print(i.text)"
   ]
  },
  {
   "source": [
    "<H1> To print price of the product <h3>Dune: 1 Mass Market Paperback – 1 September 1990"
   ],
   "cell_type": "markdown",
   "metadata": {}
  },
  {
   "cell_type": "code",
   "execution_count": 47,
   "metadata": {},
   "outputs": [
    {
     "output_type": "stream",
     "name": "stdout",
     "text": [
      "₹ 288.00\nM.R.P.: ₹ 450.00\nYou Save: ₹ 162.00 (36%)\nInclusive of all taxes\n"
     ]
    }
   ],
   "source": [
    "driver = wd.Chrome(executable_path='C:/Users/anany/.wdm/drivers/chromedriver/win32/91.0.4472.101/chromedriver.exe')\n",
    "\n",
    "driver.get('https://www.amazon.in/Dune-Frank-Herbert/dp/0441172717/ref=sr_1_1?dchild=1&keywords=dune&qid=1625727375&sr=8-1')\n",
    "\n",
    "for i in driver.find_elements_by_css_selector(\"#soldByThirdParty > span\"):\n",
    "    print(i.text)\n",
    "\n",
    "for k in driver.find_elements_by_css_selector(\"#buyBoxInner\"):\n",
    "    print(k.text)"
   ]
  },
  {
   "source": [
    "<h1> To print the price of  section Customers who bought this item also bought"
   ],
   "cell_type": "markdown",
   "metadata": {}
  },
  {
   "cell_type": "code",
   "execution_count": 51,
   "metadata": {},
   "outputs": [
    {
     "output_type": "stream",
     "name": "stdout",
     "text": [
      "491\n405\n260\n288\n258\n339\n"
     ]
    }
   ],
   "source": [
    "driver = wd.Chrome(executable_path='C:/Users/anany/.wdm/drivers/chromedriver/win32/91.0.4472.101/chromedriver.exe')\n",
    "\n",
    "# driver.get method will navigate to the page given by the url\n",
    "\n",
    "driver.get('https://www.amazon.in/Dune-Frank-Herbert/dp/0441172717/ref=sr_1_1?dchild=1&keywords=dune&qid=1625727375&sr=8-1')\n",
    "\n",
    "\n",
    "for i in driver.find_elements_by_css_selector('[class=\"a-price-whole\"]'):\n",
    "    \n",
    "    print(i.text)"
   ]
  }
 ]
}
